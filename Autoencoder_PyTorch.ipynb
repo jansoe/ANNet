{
  "cells": [
    {
      "cell_type": "markdown",
      "metadata": {
        "id": "view-in-github",
        "colab_type": "text"
      },
      "source": [
        "<a href=\"https://colab.research.google.com/github/jansoe/ANNet/blob/main/Autoencoder_PyTorch.ipynb\" target=\"_parent\"><img src=\"https://colab.research.google.com/assets/colab-badge.svg\" alt=\"Open In Colab\"/></a>"
      ]
    },
    {
      "cell_type": "markdown",
      "id": "941ca106",
      "metadata": {
        "id": "941ca106"
      },
      "source": [
        "<a href=\"https://colab.research.google.com/github/jansoe/dl_workshop/blob/main/Autoencoderv2.ipynb\" target=\"_parent\"><img src=\"https://colab.research.google.com/assets/colab-badge.svg\" alt=\"Open In Colab\"/></a>"
      ]
    },
    {
      "cell_type": "code",
      "execution_count": null,
      "id": "28e9bbf3",
      "metadata": {
        "id": "28e9bbf3"
      },
      "outputs": [],
      "source": [
        "import time\n",
        "import numpy as np\n",
        "import matplotlib.pyplot as plt\n",
        "from IPython import display"
      ]
    },
    {
      "cell_type": "code",
      "execution_count": null,
      "id": "a41a2066",
      "metadata": {
        "colab": {
          "base_uri": "https://localhost:8080/"
        },
        "id": "a41a2066",
        "outputId": "5929bd49-b739-4f94-b753-384f82de2124"
      },
      "outputs": [
        {
          "output_type": "execute_result",
          "data": {
            "text/plain": [
              "True"
            ]
          },
          "metadata": {},
          "execution_count": 2
        }
      ],
      "source": [
        "# Importing necessary PyTorch module\n",
        "import torch\n",
        "import torch.nn as nn\n",
        "import torch.nn.functional as F\n",
        "\n",
        "from torchvision import datasets, transforms\n",
        "\n",
        "# Checking for GPU availability in PyTorch\n",
        "torch.cuda.is_available()"
      ]
    },
    {
      "cell_type": "markdown",
      "id": "5310a072",
      "metadata": {
        "id": "5310a072"
      },
      "source": [
        "# Autoencoder\n"
      ]
    },
    {
      "cell_type": "code",
      "execution_count": null,
      "id": "e88dca44",
      "metadata": {
        "colab": {
          "base_uri": "https://localhost:8080/"
        },
        "id": "e88dca44",
        "outputId": "448d65ef-b4fa-4085-e907-1a98ddc5ddc1"
      },
      "outputs": [
        {
          "output_type": "stream",
          "name": "stdout",
          "text": [
            "Downloading http://yann.lecun.com/exdb/mnist/train-images-idx3-ubyte.gz\n",
            "Downloading http://yann.lecun.com/exdb/mnist/train-images-idx3-ubyte.gz to /root/.pytorch/MNIST_data/MNIST/raw/train-images-idx3-ubyte.gz\n"
          ]
        },
        {
          "output_type": "stream",
          "name": "stderr",
          "text": [
            "100%|██████████| 9912422/9912422 [00:00<00:00, 225236399.34it/s]"
          ]
        },
        {
          "output_type": "stream",
          "name": "stdout",
          "text": [
            "Extracting /root/.pytorch/MNIST_data/MNIST/raw/train-images-idx3-ubyte.gz to /root/.pytorch/MNIST_data/MNIST/raw\n"
          ]
        },
        {
          "output_type": "stream",
          "name": "stderr",
          "text": [
            "\n"
          ]
        },
        {
          "output_type": "stream",
          "name": "stdout",
          "text": [
            "\n",
            "Downloading http://yann.lecun.com/exdb/mnist/train-labels-idx1-ubyte.gz\n",
            "Downloading http://yann.lecun.com/exdb/mnist/train-labels-idx1-ubyte.gz to /root/.pytorch/MNIST_data/MNIST/raw/train-labels-idx1-ubyte.gz\n"
          ]
        },
        {
          "output_type": "stream",
          "name": "stderr",
          "text": [
            "100%|██████████| 28881/28881 [00:00<00:00, 42593422.58it/s]"
          ]
        },
        {
          "output_type": "stream",
          "name": "stdout",
          "text": [
            "Extracting /root/.pytorch/MNIST_data/MNIST/raw/train-labels-idx1-ubyte.gz to /root/.pytorch/MNIST_data/MNIST/raw\n",
            "\n",
            "Downloading http://yann.lecun.com/exdb/mnist/t10k-images-idx3-ubyte.gz\n"
          ]
        },
        {
          "output_type": "stream",
          "name": "stderr",
          "text": [
            "\n"
          ]
        },
        {
          "output_type": "stream",
          "name": "stdout",
          "text": [
            "Downloading http://yann.lecun.com/exdb/mnist/t10k-images-idx3-ubyte.gz to /root/.pytorch/MNIST_data/MNIST/raw/t10k-images-idx3-ubyte.gz\n"
          ]
        },
        {
          "output_type": "stream",
          "name": "stderr",
          "text": [
            "100%|██████████| 1648877/1648877 [00:00<00:00, 69798266.08it/s]\n"
          ]
        },
        {
          "output_type": "stream",
          "name": "stdout",
          "text": [
            "Extracting /root/.pytorch/MNIST_data/MNIST/raw/t10k-images-idx3-ubyte.gz to /root/.pytorch/MNIST_data/MNIST/raw\n",
            "\n",
            "Downloading http://yann.lecun.com/exdb/mnist/t10k-labels-idx1-ubyte.gz\n",
            "Downloading http://yann.lecun.com/exdb/mnist/t10k-labels-idx1-ubyte.gz to /root/.pytorch/MNIST_data/MNIST/raw/t10k-labels-idx1-ubyte.gz\n"
          ]
        },
        {
          "output_type": "stream",
          "name": "stderr",
          "text": [
            "100%|██████████| 4542/4542 [00:00<00:00, 18282657.17it/s]"
          ]
        },
        {
          "output_type": "stream",
          "name": "stdout",
          "text": [
            "Extracting /root/.pytorch/MNIST_data/MNIST/raw/t10k-labels-idx1-ubyte.gz to /root/.pytorch/MNIST_data/MNIST/raw\n",
            "\n"
          ]
        },
        {
          "output_type": "stream",
          "name": "stderr",
          "text": [
            "\n"
          ]
        }
      ],
      "source": [
        "trainset = datasets.MNIST('~/.pytorch/MNIST_data/', download=True, train=True, transform=transforms.ToTensor())\n",
        "testset = datasets.MNIST('~/.pytorch/MNIST_data/', download=True, train=False, transform=transforms.ToTensor())"
      ]
    },
    {
      "cell_type": "markdown",
      "source": [
        "Der MNIST-Datensatz besteht aus 60000 Trainingsbildern (und 10000 Testbildern)"
      ],
      "metadata": {
        "id": "c2-yY1--fQeP"
      },
      "id": "c2-yY1--fQeP"
    },
    {
      "cell_type": "code",
      "source": [
        "trainset"
      ],
      "metadata": {
        "colab": {
          "base_uri": "https://localhost:8080/"
        },
        "id": "mIqpsE_-eI4F",
        "outputId": "608081a9-7d2f-4397-e70a-1754e9447a5b"
      },
      "id": "mIqpsE_-eI4F",
      "execution_count": null,
      "outputs": [
        {
          "output_type": "execute_result",
          "data": {
            "text/plain": [
              "Dataset MNIST\n",
              "    Number of datapoints: 60000\n",
              "    Root location: /root/.pytorch/MNIST_data/\n",
              "    Split: Train\n",
              "    StandardTransform\n",
              "Transform: ToTensor()"
            ]
          },
          "metadata": {},
          "execution_count": 4
        }
      ]
    },
    {
      "cell_type": "code",
      "source": [
        "sample_idx = 7\n",
        "\n",
        "\n",
        "type(trainset[sample_idx])\n",
        "\n",
        "img = trainset[sample_idx][0]\n",
        "print(img.shape)\n",
        "\n",
        "label = trainset[sample_idx][1]\n",
        "print(label)"
      ],
      "metadata": {
        "colab": {
          "base_uri": "https://localhost:8080/"
        },
        "id": "LBka3z9q3cUC",
        "outputId": "95118e51-cba2-4e82-c216-fa2028c6d298"
      },
      "id": "LBka3z9q3cUC",
      "execution_count": null,
      "outputs": [
        {
          "output_type": "stream",
          "name": "stdout",
          "text": [
            "torch.Size([1, 28, 28])\n",
            "3\n"
          ]
        }
      ]
    },
    {
      "cell_type": "markdown",
      "source": [
        "Jeder Datenpunkt besteht aus einem Bild und dem zugehoerigen Label"
      ],
      "metadata": {
        "id": "uytwecl-f_k_"
      },
      "id": "uytwecl-f_k_"
    },
    {
      "cell_type": "code",
      "source": [
        "sample_idx = 7\n",
        "_ = plt.imshow(trainset[sample_idx][0].squeeze(), cmap=plt.cm.gray)\n",
        "_ = plt.title(trainset[sample_idx][1])"
      ],
      "metadata": {
        "colab": {
          "base_uri": "https://localhost:8080/",
          "height": 452
        },
        "id": "ihdjyLYveX15",
        "outputId": "1c0f7968-b504-48c5-81c5-2331ff2cb159"
      },
      "id": "ihdjyLYveX15",
      "execution_count": null,
      "outputs": [
        {
          "output_type": "display_data",
          "data": {
            "text/plain": [
              "<Figure size 640x480 with 1 Axes>"
            ],
            "image/png": "[encoded data removed]"
          },
          "metadata": {}
        }
      ]
    },
    {
      "cell_type": "markdown",
      "id": "43c3e6c3",
      "metadata": {
        "id": "43c3e6c3"
      },
      "source": [
        "## Encoder\n",
        "\n",
        "The Encoder is similar to a classification network. Only there is no final classification head at the end."
      ]
    },
    {
      "cell_type": "code",
      "execution_count": null,
      "id": "15538545",
      "metadata": {
        "id": "15538545"
      },
      "outputs": [],
      "source": [
        "class Encoder(nn.Module):\n",
        "    def __init__(self, latent_dim):\n",
        "        super(Encoder, self).__init__()\n",
        "        self.conv1 = nn.Conv2d(in_channels=1, out_channels=32, kernel_size=3, stride=2, padding=1)\n",
        "        self.conv2 = nn.Conv2d(in_channels=32, out_channels=64, kernel_size=3, stride=2, padding=1)\n",
        "        self.flatten = nn.Flatten()\n",
        "        self.fc = nn.Linear(in_features=64 * 7 * 7, out_features=latent_dim)\n",
        "\n",
        "    def forward(self, x):\n",
        "        x = F.relu(self.conv1(x))\n",
        "        x = F.relu(self.conv2(x))\n",
        "        x = self.flatten(x)\n",
        "        x = self.fc(x)\n",
        "        return x"
      ]
    },
    {
      "cell_type": "code",
      "source": [
        "encoder = Encoder(latent_dim = 8)"
      ],
      "metadata": {
        "id": "xc6U9RN_hBkq"
      },
      "id": "xc6U9RN_hBkq",
      "execution_count": null,
      "outputs": []
    },
    {
      "cell_type": "markdown",
      "id": "510d98cd",
      "metadata": {
        "id": "510d98cd"
      },
      "source": [
        "## Decoder"
      ]
    },
    {
      "cell_type": "markdown",
      "id": "e4ec3496",
      "metadata": {
        "id": "e4ec3496"
      },
      "source": [
        "The Decoder is taking an input and reconstructing an image from this"
      ]
    },
    {
      "cell_type": "code",
      "execution_count": null,
      "id": "48b9121a",
      "metadata": {
        "id": "48b9121a"
      },
      "outputs": [],
      "source": [
        "class Decoder(nn.Module):\n",
        "    def __init__(self, latent_dim):\n",
        "        super(Decoder, self).__init__()\n",
        "        self.fc = nn.Linear(latent_dim, 7 * 7 * 32)\n",
        "        self.conv_transpose1 = nn.ConvTranspose2d(32, 64, kernel_size=3, stride=2, padding=1, output_padding=1)\n",
        "        self.conv_transpose2 = nn.ConvTranspose2d(64, 32, kernel_size=3, stride=2, padding=1, output_padding=1)\n",
        "        self.conv_transpose3 = nn.ConvTranspose2d(32, 1, kernel_size=3, stride=1, padding=1)\n",
        "\n",
        "    def forward(self, x):\n",
        "        x = F.relu(self.fc(x))\n",
        "        x = x.view(-1, 32, 7, 7)  # Reshape to (batch_size, channels, height, width)\n",
        "        x = F.relu(self.conv_transpose1(x))\n",
        "        x = F.relu(self.conv_transpose2(x))\n",
        "        x = torch.sigmoid(self.conv_transpose3(x))\n",
        "        return x"
      ]
    },
    {
      "cell_type": "code",
      "source": [
        "decoder = Decoder(latent_dim = 8)"
      ],
      "metadata": {
        "id": "M230xHEphieE"
      },
      "id": "M230xHEphieE",
      "execution_count": null,
      "outputs": []
    },
    {
      "cell_type": "markdown",
      "id": "e6466ee3",
      "metadata": {
        "id": "e6466ee3"
      },
      "source": [
        "## Autoencoder\n",
        "\n",
        "Combining Encoder-Autoencoder\n",
        "\n"
      ]
    },
    {
      "cell_type": "code",
      "execution_count": null,
      "id": "a8c7ee30",
      "metadata": {
        "id": "a8c7ee30"
      },
      "outputs": [],
      "source": [
        "class Autoencoder(nn.Module):\n",
        "    def __init__(self, encoder, decoder):\n",
        "        super(Autoencoder, self).__init__()\n",
        "        self.encoder = encoder\n",
        "        self.decoder = decoder\n",
        "\n",
        "    def forward(self, x):\n",
        "        encoded = self.encoder(x)\n",
        "        decoded = self.decoder(encoded)\n",
        "        return decoded"
      ]
    },
    {
      "cell_type": "code",
      "source": [
        "autoencoder = Autoencoder(encoder, decoder)"
      ],
      "metadata": {
        "id": "mAcv9o_EkSnl"
      },
      "id": "mAcv9o_EkSnl",
      "execution_count": null,
      "outputs": []
    },
    {
      "cell_type": "code",
      "execution_count": null,
      "id": "0ca2979e",
      "metadata": {
        "colab": {
          "base_uri": "https://localhost:8080/"
        },
        "id": "0ca2979e",
        "outputId": "41544a26-f95c-4953-8e67-0dbc3a1de5b9"
      },
      "outputs": [
        {
          "output_type": "execute_result",
          "data": {
            "text/plain": [
              "Autoencoder(\n",
              "  (encoder): Encoder(\n",
              "    (conv1): Conv2d(1, 32, kernel_size=(3, 3), stride=(2, 2), padding=(1, 1))\n",
              "    (conv2): Conv2d(32, 64, kernel_size=(3, 3), stride=(2, 2), padding=(1, 1))\n",
              "    (flatten): Flatten(start_dim=1, end_dim=-1)\n",
              "    (fc): Linear(in_features=3136, out_features=8, bias=True)\n",
              "  )\n",
              "  (decoder): Decoder(\n",
              "    (fc): Linear(in_features=8, out_features=1568, bias=True)\n",
              "    (conv_transpose1): ConvTranspose2d(32, 64, kernel_size=(3, 3), stride=(2, 2), padding=(1, 1), output_padding=(1, 1))\n",
              "    (conv_transpose2): ConvTranspose2d(64, 32, kernel_size=(3, 3), stride=(2, 2), padding=(1, 1), output_padding=(1, 1))\n",
              "    (conv_transpose3): ConvTranspose2d(32, 1, kernel_size=(3, 3), stride=(1, 1), padding=(1, 1))\n",
              "  )\n",
              ")"
            ]
          },
          "metadata": {},
          "execution_count": 106
        }
      ],
      "source": [
        "autoencoder"
      ]
    },
    {
      "cell_type": "markdown",
      "id": "e5106baa",
      "metadata": {
        "id": "e5106baa"
      },
      "source": [
        "initial model predictions"
      ]
    },
    {
      "cell_type": "code",
      "execution_count": null,
      "id": "f411fed1",
      "metadata": {
        "colab": {
          "base_uri": "https://localhost:8080/",
          "height": 229
        },
        "id": "f411fed1",
        "outputId": "e05f392a-87b9-4839-cc69-3e95c2ec6ce3"
      },
      "outputs": [
        {
          "output_type": "display_data",
          "data": {
            "text/plain": [
              "<Figure size 2000x400 with 20 Axes>"
            ],
            "image/png": "[encoded data removed]"
          },
          "metadata": {}
        }
      ],
      "source": [
        "n_plot = 10\n",
        "\n",
        "fig, ax = plt.subplots(2, n_plot, figsize=(20, 4))\n",
        "for i in range(n_plot):\n",
        "\n",
        "    # display original\n",
        "    orig_img = testset[i][0]\n",
        "    ax[0, i].imshow(orig_img.squeeze(), cmap='gray_r', vmin=0, vmax=1)\n",
        "    ax[0, i].axis('off')\n",
        "\n",
        "    # display autoencoded\n",
        "    with torch.no_grad():\n",
        "        autoencoded_img = autoencoder(orig_img[None])\n",
        "    ax[1, i].imshow(autoencoded_img.squeeze(), cmap='gray_r', vmin=0, vmax=1)\n",
        "    ax[1, i].axis('off')"
      ]
    },
    {
      "cell_type": "markdown",
      "id": "9279a260",
      "metadata": {
        "id": "9279a260"
      },
      "source": [
        "### Training\n",
        "\n"
      ]
    },
    {
      "cell_type": "code",
      "execution_count": null,
      "id": "66841b49",
      "metadata": {
        "id": "66841b49"
      },
      "outputs": [],
      "source": [
        "loss_fn = nn.BCELoss()\n",
        "\n",
        "optimizer = torch.optim.Adam(autoencoder.parameters(), lr=1e-3)"
      ]
    },
    {
      "cell_type": "code",
      "source": [
        "train_loader = torch.utils.data.DataLoader(\n",
        "    dataset=trainset,       # The dataset object to load data from\n",
        "    batch_size=256,        # Number of samples per batch\n",
        "    shuffle=True,           # Shuffle the dataset at every epoch\n",
        "    num_workers=4           # Number of subprocesses to use for data loading (optional, depends on your system)\n",
        ")\n",
        "\n",
        "\n",
        "test_loader = torch.utils.data.DataLoader(\n",
        "    dataset=testset,\n",
        "    batch_size=256,\n",
        "    shuffle=False,\n",
        "    num_workers=4\n",
        ")"
      ],
      "metadata": {
        "id": "Pz_zfG_C8N05"
      },
      "id": "Pz_zfG_C8N05",
      "execution_count": null,
      "outputs": []
    },
    {
      "cell_type": "code",
      "source": [
        "num_epochs = 40\n",
        "\n",
        "for epoch in range(num_epochs):\n",
        "\n",
        "    # Training phase\n",
        "    autoencoder.train()\n",
        "    train_loss = 0.0\n",
        "    for data in train_loader:\n",
        "        inputs, targets = data\n",
        "        optimizer.zero_grad()\n",
        "        outputs = autoencoder(inputs)\n",
        "        loss = loss_fn(outputs, inputs)\n",
        "        loss.backward()\n",
        "        optimizer.step()\n",
        "        train_loss += loss.item()\n",
        "\n",
        "    # Validation phase\n",
        "    autoencoder.eval()\n",
        "    val_loss = 0.0\n",
        "    with torch.no_grad():\n",
        "        for data in test_loader:\n",
        "            inputs, targets = data\n",
        "            outputs = autoencoder(inputs)\n",
        "            loss = loss_fn(outputs, inputs)\n",
        "            val_loss += loss.item()\n",
        "\n",
        "    # Logging the losses\n",
        "    print(f'Epoch {epoch+1}/{num_epochs} \\t Training Loss: {train_loss/len(train_loader)} \\t Validation Loss: {val_loss/len(test_loader)}')"
      ],
      "metadata": {
        "colab": {
          "base_uri": "https://localhost:8080/"
        },
        "id": "MO7MqULOufMM",
        "outputId": "b4b7a24a-8fdf-4e97-e114-8753889f8048"
      },
      "id": "MO7MqULOufMM",
      "execution_count": null,
      "outputs": [
        {
          "output_type": "stream",
          "name": "stdout",
          "text": [
            "Epoch 1/40 \t Training Loss: 0.20999598877227052 \t Validation Loss: 0.1454343345016241\n",
            "Epoch 2/40 \t Training Loss: 0.13941595427533413 \t Validation Loss: 0.1333814537152648\n",
            "Epoch 3/40 \t Training Loss: 0.13208055654738812 \t Validation Loss: 0.12941980585455895\n",
            "Epoch 4/40 \t Training Loss: 0.12851335200223518 \t Validation Loss: 0.1256643423810601\n",
            "Epoch 5/40 \t Training Loss: 0.1260002261463632 \t Validation Loss: 0.12407862860709429\n",
            "Epoch 6/40 \t Training Loss: 0.12433465627279687 \t Validation Loss: 0.12290417142212391\n",
            "Epoch 7/40 \t Training Loss: 0.12284544357594024 \t Validation Loss: 0.1222331641241908\n",
            "Epoch 8/40 \t Training Loss: 0.12189266868728273 \t Validation Loss: 0.120450334623456\n",
            "Epoch 9/40 \t Training Loss: 0.12082460842868115 \t Validation Loss: 0.11979458145797253\n",
            "Epoch 10/40 \t Training Loss: 0.11994796785268377 \t Validation Loss: 0.11980451885610818\n",
            "Epoch 11/40 \t Training Loss: 0.11944882219776194 \t Validation Loss: 0.11840823292732239\n",
            "Epoch 12/40 \t Training Loss: 0.11863197858663316 \t Validation Loss: 0.11800538506358862\n",
            "Epoch 13/40 \t Training Loss: 0.11820297862621064 \t Validation Loss: 0.1178604057058692\n",
            "Epoch 14/40 \t Training Loss: 0.11747801665295945 \t Validation Loss: 0.11748937778174877\n",
            "Epoch 15/40 \t Training Loss: 0.11714540028825719 \t Validation Loss: 0.11649640910327434\n",
            "Epoch 16/40 \t Training Loss: 0.11662479505894031 \t Validation Loss: 0.1161330034956336\n",
            "Epoch 17/40 \t Training Loss: 0.1162088118969126 \t Validation Loss: 0.1160913772881031\n",
            "Epoch 18/40 \t Training Loss: 0.11583554969823107 \t Validation Loss: 0.11536661814898252\n",
            "Epoch 19/40 \t Training Loss: 0.11552319082807987 \t Validation Loss: 0.11511445883661509\n",
            "Epoch 20/40 \t Training Loss: 0.1151230220147904 \t Validation Loss: 0.11503906641155481\n",
            "Epoch 21/40 \t Training Loss: 0.11476151819558854 \t Validation Loss: 0.11562303770333529\n",
            "Epoch 22/40 \t Training Loss: 0.11468523452256588 \t Validation Loss: 0.11472866982221604\n",
            "Epoch 23/40 \t Training Loss: 0.11429141965952326 \t Validation Loss: 0.1148607850074768\n",
            "Epoch 24/40 \t Training Loss: 0.11413492366988608 \t Validation Loss: 0.11394498739391565\n",
            "Epoch 25/40 \t Training Loss: 0.11380479110682264 \t Validation Loss: 0.11400097217410803\n",
            "Epoch 26/40 \t Training Loss: 0.11355627505703175 \t Validation Loss: 0.11369167882949113\n",
            "Epoch 27/40 \t Training Loss: 0.11333422942998561 \t Validation Loss: 0.1134447354823351\n",
            "Epoch 28/40 \t Training Loss: 0.11310866918969661 \t Validation Loss: 0.11308349203318357\n",
            "Epoch 29/40 \t Training Loss: 0.11296475945000953 \t Validation Loss: 0.11308509185910225\n",
            "Epoch 30/40 \t Training Loss: 0.11278220462672253 \t Validation Loss: 0.1135673301294446\n",
            "Epoch 31/40 \t Training Loss: 0.11257936491611156 \t Validation Loss: 0.11306852102279663\n",
            "Epoch 32/40 \t Training Loss: 0.11242087083928129 \t Validation Loss: 0.11264919564127922\n",
            "Epoch 33/40 \t Training Loss: 0.11228007036954799 \t Validation Loss: 0.11275661941617728\n",
            "Epoch 34/40 \t Training Loss: 0.11207681704074779 \t Validation Loss: 0.11229431889951229\n",
            "Epoch 35/40 \t Training Loss: 0.11205190337718801 \t Validation Loss: 0.11261147614568472\n",
            "Epoch 36/40 \t Training Loss: 0.11181022550197357 \t Validation Loss: 0.11225395686924458\n",
            "Epoch 37/40 \t Training Loss: 0.1115641362172492 \t Validation Loss: 0.11220308933407068\n",
            "Epoch 38/40 \t Training Loss: 0.11152934593723175 \t Validation Loss: 0.1119412638247013\n",
            "Epoch 39/40 \t Training Loss: 0.11146207572297848 \t Validation Loss: 0.11202531475573778\n",
            "Epoch 40/40 \t Training Loss: 0.11124467012730051 \t Validation Loss: 0.11204470992088318\n"
          ]
        }
      ]
    },
    {
      "cell_type": "markdown",
      "id": "1eb6237d",
      "metadata": {
        "id": "1eb6237d"
      },
      "source": [
        "ouput after the training"
      ]
    },
    {
      "cell_type": "code",
      "source": [
        "n_plot = 10\n",
        "\n",
        "fig, ax = plt.subplots(3, n_plot, figsize=(20, 4))\n",
        "for i in range(n_plot):\n",
        "\n",
        "    # display original\n",
        "    orig_img = testset[i][0]\n",
        "    ax[0, i].imshow(orig_img.squeeze(), cmap='gray_r')\n",
        "    ax[0, i].axis('off')\n",
        "\n",
        "    with torch.no_grad():\n",
        "        encoded_img = encoder(orig_img[None])\n",
        "    ax[1, i].imshow(encoded_img, cmap='gray_r')\n",
        "    ax[1, i].set_yticks([])\n",
        "\n",
        "    # display decoded\n",
        "    with torch.no_grad():\n",
        "        autoencoded_img = decoder(encoded_img[None])\n",
        "    ax[2, i].imshow(autoencoded_img.squeeze(), cmap='gray_r')\n",
        "    ax[2, i].axis('off')"
      ],
      "metadata": {
        "colab": {
          "base_uri": "https://localhost:8080/",
          "height": 235
        },
        "id": "j5tmf07qAIKJ",
        "outputId": "aa6b333e-6a64-4ffe-bf07-aafd30753931"
      },
      "id": "j5tmf07qAIKJ",
      "execution_count": null,
      "outputs": [
        {
          "output_type": "display_data",
          "data": {
            "text/plain": [
              "<Figure size 2000x400 with 30 Axes>"
            ],
            "image/png": "[encoded data removed]"
          },
          "metadata": {}
        }
      ]
    },
    {
      "cell_type": "markdown",
      "source": [
        "### Aufgaben\n",
        "1. Dimension des latenten Raumes\n",
        "  - Verlgleichen Sie die Resultate für unterschiedlich große latente Räumen\n",
        "    - Wieviele Dimensionen muss der latente Raum mindestens haben?\n",
        "\n",
        "2. Rechnen im latenten Raum\n",
        "  - Berechnen Sie die latente Darstellung für 2 Testbilder (encoded images)\n",
        "  -  Erstellen Sie ein gewichtetes Mittel der beiden Embeddings  $\\alpha \\vec{e_1} + (1-\\alpha) \\vec{e_2}$ für verschiedene Werte von $\\alpha$ zwischen 0 und 1\n",
        "  - Dekodieren Sie nun wieder den gemittelten Code\n",
        "  - Bonus: Wie sieht das Ergebniss aus, wenn man dieses gewichtete Mittel direkt im Pixelraum ausführt?"
      ],
      "metadata": {
        "id": "jywU9Pfsbiwe"
      },
      "id": "jywU9Pfsbiwe"
    }
  ],
  "metadata": {
    "colab": {
      "provenance": [],
      "machine_shape": "hm",
      "gpuType": "T4",
      "include_colab_link": true
    },
    "language_info": {
      "name": "python"
    },
    "kernelspec": {
      "name": "python3",
      "display_name": "Python 3"
    },
    "accelerator": "GPU"
  },
  "nbformat": 4,
  "nbformat_minor": 5
}